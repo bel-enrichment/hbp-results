{
 "cells": [
  {
   "cell_type": "markdown",
   "metadata": {},
   "source": [
    "# Statistics of the curation exercise\n",
    "\n",
    "This notebook outlines some of the statistics of the curation exercise that are mentioned in the manuscript."
   ]
  },
  {
   "cell_type": "code",
   "execution_count": 1,
   "metadata": {},
   "outputs": [],
   "source": [
    "import sys\n",
    "import time\n",
    "\n",
    "import os\n",
    "import pandas as pd"
   ]
  },
  {
   "cell_type": "code",
   "execution_count": 2,
   "metadata": {},
   "outputs": [
    {
     "name": "stdout",
     "output_type": "stream",
     "text": [
      "3.6.5 (default, Apr 20 2018, 08:54:42) \n",
      "[GCC 4.8.5 20150623 (Red Hat 4.8.5-16)]\n"
     ]
    }
   ],
   "source": [
    "print(sys.version)"
   ]
  },
  {
   "cell_type": "code",
   "execution_count": 3,
   "metadata": {},
   "outputs": [
    {
     "name": "stdout",
     "output_type": "stream",
     "text": [
      "Wed Dec 12 15:15:40 2018\n"
     ]
    }
   ],
   "source": [
    "print(time.asctime())"
   ]
  },
  {
   "cell_type": "markdown",
   "metadata": {},
   "source": [
    "Load excel sheets"
   ]
  },
  {
   "cell_type": "code",
   "execution_count": 4,
   "metadata": {},
   "outputs": [],
   "source": [
    "indra_folder = os.path.join(os.path.abspath(os.path.join(os.path.dirname('__file__'),'..', 'data')))\n",
    "\n",
    "# Excel sheet with statistics about curation\n",
    "curation_stats_path = os.path.join(indra_folder, 'curation_summary.csv')\n",
    "\n",
    "def get_enrichment_directories():\n",
    "    \"\"\"List the excel curation sheets.\"\"\"\n",
    "    for path in os.listdir(INDRA_DIRECTORY):\n",
    "        folder = os.path.join(INDRA_DIRECTORY, path)\n",
    "        if not (os.path.isdir(folder) and path.startswith('enrichment-')):\n",
    "            continue\n",
    "        for subpath in os.listdir(folder):\n",
    "            subfolder = os.path.join(folder, subpath)\n",
    "            if not os.path.isdir(subfolder):\n",
    "                continue\n",
    "            curated_path = os.path.join(subfolder, f'{subpath}_curated.xlsx')\n",
    "            if os.path.exists(curated_path):\n",
    "                yield curated_path"
   ]
  },
  {
   "cell_type": "markdown",
   "metadata": {},
   "source": [
    "#### Exclusion criteria\n",
    "1. In one particular case, for GABRG1, there was only one statement extracted and this statement was wrong\n",
    "2. For SLC5A7, INDRA made the same error consistently through the excel sheet and there was not any correct\n",
    "3. MAPT and GSK3B were curated but they did not follow the rational curation procedure."
   ]
  },
  {
   "cell_type": "code",
   "execution_count": 5,
   "metadata": {},
   "outputs": [],
   "source": [
    "BLACKLIST = {'SLC5A7', 'GSK3B', 'MAPT', 'GABRG1'}"
   ]
  },
  {
   "cell_type": "code",
   "execution_count": 6,
   "metadata": {},
   "outputs": [],
   "source": [
    "curation_df = pd.read_csv(curation_stats_path, index_col=0)\n",
    "curation_df.fillna(0, inplace=True)\n",
    "curation_df = curation_df[[v not in BLACKLIST for v in curation_df.index]]"
   ]
  },
  {
   "cell_type": "code",
   "execution_count": 7,
   "metadata": {},
   "outputs": [],
   "source": [
    "total_indra_statements = 0\n",
    "total_checked = 0\n",
    "total_correct = 0\n",
    "total_recovered = 0\n",
    "total_required_curation = 0\n",
    "\n",
    "for gene_symbol, (correct, error, other_statement, modified, not_curated, total) in curation_df.iterrows():\n",
    "            \n",
    "    total_indra_statements += total\n",
    "    \n",
    "    total_checked += total - not_curated\n",
    "    \n",
    "    total_correct += correct\n",
    "    \n",
    "    total_required_curation += modified + other_statement\n",
    "    \n",
    "    # Total statements recovered \n",
    "    total_recovered += (correct + modified + other_statement)\n",
    "\n",
    "indra_coverage = total_checked / total_indra_statements\n",
    "indra_accuracy = total_correct / total_checked\n",
    "relative_recovery = total_recovered / total_checked\n",
    "relative_fixes = total_required_curation / total_checked"
   ]
  },
  {
   "cell_type": "code",
   "execution_count": 8,
   "metadata": {},
   "outputs": [
    {
     "name": "stdout",
     "output_type": "stream",
     "text": [
      "BEL Statements extracted by INDRA:   17096.0.\n",
      "BEL Statements checked by a curator: 2989.0 (17.5%).\n",
      "BEL Statements directly correct:     917.0 (30.7%).\n",
      "BEL Statements Fixed:                1454.0 (48.6%).\n",
      "BEL Statements Total Recovered:      2371.0 (79.3%).\n",
      "\n"
     ]
    }
   ],
   "source": [
    "print(f\"\"\"BEL Statements extracted by INDRA:   {total_indra_statements:5}.\n",
    "BEL Statements checked by a curator: {total_checked:5} ({indra_coverage:.1%}).\n",
    "BEL Statements directly correct:     {total_correct:5} ({indra_accuracy:.1%}).\n",
    "BEL Statements Fixed:                {total_required_curation:5} ({relative_fixes:.1%}).\n",
    "BEL Statements Total Recovered:      {total_recovered:5} ({relative_recovery:.1%}).\n",
    "\"\"\")"
   ]
  },
  {
   "cell_type": "code",
   "execution_count": 9,
   "metadata": {},
   "outputs": [],
   "source": [
    "#TODO Add statistics about the network"
   ]
  },
  {
   "cell_type": "code",
   "execution_count": null,
   "metadata": {},
   "outputs": [],
   "source": []
  },
  {
   "cell_type": "code",
   "execution_count": null,
   "metadata": {},
   "outputs": [],
   "source": []
  }
 ],
 "metadata": {
  "kernelspec": {
   "display_name": "Python 3",
   "language": "python",
   "name": "python3"
  },
  "language_info": {
   "codemirror_mode": {
    "name": "ipython",
    "version": 3
   },
   "file_extension": ".py",
   "mimetype": "text/x-python",
   "name": "python",
   "nbconvert_exporter": "python",
   "pygments_lexer": "ipython3",
   "version": "3.6.5"
  }
 },
 "nbformat": 4,
 "nbformat_minor": 2
}
