{
 "cells": [
  {
   "cell_type": "markdown",
   "metadata": {},
   "source": [
    "# Assessment of Inter-Annotator Agreement\n",
    "\n",
    "This notebooks outlines basic statistics about the re-curation of the ten NeuroMMSig subgraphs."
   ]
  },
  {
   "cell_type": "code",
   "execution_count": 43,
   "metadata": {},
   "outputs": [],
   "source": [
    "import os\n",
    "import sys\n",
    "import time\n",
    "\n",
    "import matplotlib.pyplot as plt\n",
    "import neurommsig_knowledge\n",
    "import pandas as pd\n",
    "import pybel\n",
    "import pybel_tools\n",
    "import seaborn as sns\n",
    "from pybel_tools.summary import count_annotation_values\n",
    "from nltk import agreement"
   ]
  },
  {
   "cell_type": "code",
   "execution_count": 2,
   "metadata": {},
   "outputs": [],
   "source": [
    "%matplotlib inline"
   ]
  },
  {
   "cell_type": "markdown",
   "metadata": {},
   "source": [
    "## Environment"
   ]
  },
  {
   "cell_type": "code",
   "execution_count": 3,
   "metadata": {},
   "outputs": [
    {
     "name": "stdout",
     "output_type": "stream",
     "text": [
      "3.7.2 (default, Jan 13 2019, 12:50:15) \n",
      "[Clang 10.0.0 (clang-1000.11.45.5)]\n"
     ]
    }
   ],
   "source": [
    "print(sys.version)"
   ]
  },
  {
   "cell_type": "code",
   "execution_count": 4,
   "metadata": {},
   "outputs": [
    {
     "name": "stdout",
     "output_type": "stream",
     "text": [
      "Tue Apr  2 12:50:24 2019\n"
     ]
    }
   ],
   "source": [
    "print(time.asctime())"
   ]
  },
  {
   "cell_type": "code",
   "execution_count": 5,
   "metadata": {},
   "outputs": [
    {
     "name": "stdout",
     "output_type": "stream",
     "text": [
      "0.13.2-dev\n"
     ]
    }
   ],
   "source": [
    "print(pybel.get_version())"
   ]
  },
  {
   "cell_type": "code",
   "execution_count": 6,
   "metadata": {},
   "outputs": [
    {
     "name": "stdout",
     "output_type": "stream",
     "text": [
      "0.7.3-dev\n"
     ]
    }
   ],
   "source": [
    "print(pybel_tools.get_version())"
   ]
  },
  {
   "cell_type": "markdown",
   "metadata": {},
   "source": [
    "## Data Acquisition"
   ]
  },
  {
   "cell_type": "markdown",
   "metadata": {},
   "source": [
    "Load and combine the graphs using PyBEL"
   ]
  },
  {
   "cell_type": "code",
   "execution_count": 7,
   "metadata": {},
   "outputs": [
    {
     "name": "stdout",
     "output_type": "stream",
     "text": [
      "NeuroMMSig v2.0.0\n",
      "Number of Nodes: 2003\n",
      "Number of Edges: 6829\n",
      "Number of Citations: 1035\n",
      "Number of Authors: 0\n",
      "Network Density: 1.70E-03\n",
      "Number of Components: 14\n",
      "Number of Warnings: 0\n"
     ]
    }
   ],
   "source": [
    "graph = neurommsig_knowledge.repository.get_graph()\n",
    "graph.summarize()"
   ]
  },
  {
   "cell_type": "markdown",
   "metadata": {},
   "source": [
    "Count Confidence annotation values"
   ]
  },
  {
   "cell_type": "code",
   "execution_count": 12,
   "metadata": {},
   "outputs": [],
   "source": [
    "confidences = count_annotation_values(graph, 'Confidence')"
   ]
  },
  {
   "cell_type": "markdown",
   "metadata": {},
   "source": [
    "## Statistics"
   ]
  },
  {
   "cell_type": "code",
   "execution_count": 44,
   "metadata": {},
   "outputs": [],
   "source": [
    "# Assume that all the statements before were correct\n",
    "total_statements = sum(confidences.values())\n",
    "\n",
    "# y1 corresponds to all correct statements before re-curation\n",
    "y1 = [1] * total_statements\n",
    "\n",
    "y2 = (\n",
    "    [1] * confidences['High'] \n",
    "    + [1] * confidences['Very High'] \n",
    "    + [0] * confidences['Low'] \n",
    "    + [0] * confidences['Medium']\n",
    ")\n",
    "\n",
    "data = [\n",
    "    (0, str(i), str(element))\n",
    "    for i, element in enumerate(y1)\n",
    "] + [\n",
    "    (1, str(i), str(element))\n",
    "    for i, element in enumerate(y2)\n",
    "]\n",
    "\n",
    "annotation_task = agreement.AnnotationTask(data=data)"
   ]
  },
  {
   "cell_type": "markdown",
   "metadata": {},
   "source": [
    "Calculate Cohen's Kappa and Scott's pi coefficient"
   ]
  },
  {
   "cell_type": "code",
   "execution_count": 38,
   "metadata": {},
   "outputs": [
    {
     "data": {
      "text/plain": [
       "-0.2556359875904863"
      ]
     },
     "execution_count": 38,
     "metadata": {},
     "output_type": "execute_result"
    }
   ],
   "source": [
    "scott_pi = annotation_task.pi()\n",
    "scott_pi"
   ]
  },
  {
   "cell_type": "code",
   "execution_count": 39,
   "metadata": {},
   "outputs": [
    {
     "data": {
      "text/plain": [
       "0.0"
      ]
     },
     "execution_count": 39,
     "metadata": {},
     "output_type": "execute_result"
    }
   ],
   "source": [
    "cohen_kappa = annotation_task.kappa()\n",
    "cohen_kappa"
   ]
  },
  {
   "cell_type": "code",
   "execution_count": 49,
   "metadata": {},
   "outputs": [
    {
     "data": {
      "image/png": "[encoded data removed]",
      "text/plain": [
       "<Figure size 432x288 with 1 Axes>"
      ]
     },
     "metadata": {
      "needs_background": "light"
     },
     "output_type": "display_data"
    }
   ],
   "source": [
    "sns.barplot(data=pd.DataFrame({\n",
    "    'Low': [confidences['Low']],\n",
    "    'Medium':[confidences['Medium']],\n",
    "    'High': [confidences['High']],\n",
    "    'Very High': [confidences['Very High']],\n",
    "}))\n",
    "\n",
    "plt.title(f'Summary of Inter-Annotator Agreement\\n$\\pi={scott_pi:.2f}, \\kappa={cohen_kappa:.2f}$')\n",
    "plt.show()"
   ]
  },
  {
   "cell_type": "markdown",
   "metadata": {},
   "source": [
    "Since we conducted a **re-curation approach** (i.e., one curator recurates BEL triplets that have previously been annotated), the following issues arise when calculating Cohen's Kappa score and Scott's pi coefficient:\n",
    "\n",
    "1. The second curator knows what has been coded already by the original curator. In other words, the first curator decides what is \"right\" and the second curator evaluates relative to the first curator. This does not fit with the assumptions of both Cohen's Kappa score and Scott's pi coefficient since they first assume independence in the inter-annotation, something that does not apply to our approach.\n",
    "2. We assume that the original curator had correctly annotated all the BEL triplets. This conflicts also with the way that these two coefficients are calculated. To illustrate the problem, we show the confusion matrix used to calculate the Cohen's Kappa score below. Note that the the curation results of the original curator correspond to the table columns and the curation results of the second curator to the table rows.\n",
    "\n",
    "<table>\n",
    "    <thead>\n",
    "        <tr>\n",
    "        <td></td>\n",
    "        <td>Correct</td>\n",
    "        <td>Wrong</td>\n",
    "        </tr>\n",
    "    </thead>\n",
    "    <tbody>\n",
    "        <tr>\n",
    "        <td>Correct</td>\n",
    "        <td>3599</td>\n",
    "        <td>0</td>\n",
    "        </tr>\n",
    "        <tr>\n",
    "        <td>Wrong</td>\n",
    "        <td>2472</td>\n",
    "        <td>0</td>\n",
    "        </tr>\n",
    "    </tbody>\n",
    "</table>\n",
    "\n",
    "**Ultimately, we have decided not report these two statistics in the manuscript**\n",
    "\n",
    "*References*\n",
    "- Scott, W. (1955). \"Reliability of content analysis: The case of nominal scale coding.\" Public Opinion Quarterly, 19(3), 321-325.\n",
    "-  J. Cohen (1960). “A coefficient of agreement for nominal scales”. Educational and Psychological Measurement 20(1):37-46. doi:10.1177/001316446002000104."
   ]
  }
 ],
 "metadata": {
  "kernelspec": {
   "display_name": "Python 3",
   "language": "python",
   "name": "python3"
  },
  "language_info": {
   "codemirror_mode": {
    "name": "ipython",
    "version": 3
   },
   "file_extension": ".py",
   "mimetype": "text/x-python",
   "name": "python",
   "nbconvert_exporter": "python",
   "pygments_lexer": "ipython3",
   "version": "3.7.2"
  }
 },
 "nbformat": 4,
 "nbformat_minor": 2
}
